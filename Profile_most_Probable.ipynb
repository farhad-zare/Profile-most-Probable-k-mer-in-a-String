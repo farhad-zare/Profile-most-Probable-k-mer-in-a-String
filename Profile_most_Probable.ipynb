{
 "cells": [
  {
   "cell_type": "code",
   "execution_count": 22,
   "metadata": {},
   "outputs": [
    {
     "name": "stdout",
     "output_type": "stream",
     "text": [
      "enter a string: ATAAACCTCCTAAGCGTGCTTATGGACTGACGAAGAACTACCGATCATGGGGTCATGTTATAAACACGATCTTTAGCTCATGGTCACAAGCCGGATTATTCAGGGTTTAACAGATGCTGTTGGCGCCTCCGTGAGCGTATAAATGAACTCAGTGTACACCAGGATATCTGAGGGCTAACATTATCGCATGCTCTACCGAT\n"
     ]
    }
   ],
   "source": [
    "string=input('enter a string: ')"
   ]
  },
  {
   "cell_type": "code",
   "execution_count": 23,
   "metadata": {},
   "outputs": [],
   "source": [
    "dic={'A':[0.143, 0.143, 0.179, 0.179, 0.179 ,0.214, 0.357], 'C':[0.321, 0.179, 0.464, 0.214 ,0.321, 0.214, 0.179],'G':[0.286, 0.357, 0.071, 0.321, 0.321 ,0.429, 0.214],'T':[0.25, 0.321, 0.286, 0.286, 0.179, 0.143, 0.25]}\n",
    "\n"
   ]
  },
  {
   "cell_type": "code",
   "execution_count": 6,
   "metadata": {},
   "outputs": [],
   "source": [
    "def multiplyList(myList) :\n",
    "    result = 1\n",
    "    for x in myList:\n",
    "         result = result * x\n",
    "    return result"
   ]
  },
  {
   "cell_type": "code",
   "execution_count": 16,
   "metadata": {},
   "outputs": [],
   "source": [
    "def Profile_most_Probable(string , dic, n):\n",
    "    List1=[]\n",
    "    List2=[]\n",
    "    for i in range(0,len(string)-n+1):\n",
    "        kmer=string[i:i+n]\n",
    "        L=[]\n",
    "        for j in range(0,len(kmer)):\n",
    "             L.append(dic[kmer[j]][j])\n",
    "        List1.append(multiplyList(L))\n",
    "        List2.append(kmer)\n",
    "        \n",
    "    return List2[List1.index(max(List1))]\n",
    "        "
   ]
  },
  {
   "cell_type": "code",
   "execution_count": 24,
   "metadata": {},
   "outputs": [
    {
     "data": {
      "text/plain": [
       "'GGCGCCT'"
      ]
     },
     "execution_count": 24,
     "metadata": {},
     "output_type": "execute_result"
    }
   ],
   "source": [
    "Profile_most_Probable(string , dic, 7)"
   ]
  },
  {
   "cell_type": "code",
   "execution_count": null,
   "metadata": {},
   "outputs": [],
   "source": []
  }
 ],
 "metadata": {
  "kernelspec": {
   "display_name": "Python 3",
   "language": "python",
   "name": "python3"
  },
  "language_info": {
   "codemirror_mode": {
    "name": "ipython",
    "version": 3
   },
   "file_extension": ".py",
   "mimetype": "text/x-python",
   "name": "python",
   "nbconvert_exporter": "python",
   "pygments_lexer": "ipython3",
   "version": "3.7.4"
  }
 },
 "nbformat": 4,
 "nbformat_minor": 2
}
